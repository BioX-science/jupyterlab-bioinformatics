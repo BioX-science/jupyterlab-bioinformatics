{
 "cells": [
  {
   "cell_type": "code",
   "execution_count": 27,
   "metadata": {},
   "outputs": [],
   "source": [
    "from Bio import Entrez\n",
    "from Bio import Medline"
   ]
  },
  {
   "cell_type": "markdown",
   "metadata": {},
   "source": [
    "General inquiry to Pubmed database"
   ]
  },
  {
   "cell_type": "code",
   "execution_count": 28,
   "metadata": {},
   "outputs": [
    {
     "data": {
      "text/plain": [
       "'PubMed bibliographic record'"
      ]
     },
     "execution_count": 28,
     "metadata": {},
     "output_type": "execute_result"
    }
   ],
   "source": [
    "Entrez.email = \"alperyilmaz@gmail.com\"\n",
    "handle = Entrez.einfo(db=\"pubmed\")\n",
    "record = Entrez.read(handle)\n",
    "record[\"DbInfo\"][\"Description\"]"
   ]
  },
  {
   "cell_type": "code",
   "execution_count": 29,
   "metadata": {},
   "outputs": [
    {
     "data": {
      "text/plain": [
       "'28886957'"
      ]
     },
     "execution_count": 29,
     "metadata": {},
     "output_type": "execute_result"
    }
   ],
   "source": [
    "record[\"DbInfo\"][\"Count\"]"
   ]
  },
  {
   "cell_type": "code",
   "execution_count": 30,
   "metadata": {},
   "outputs": [
    {
     "data": {
      "text/plain": [
       "'2018/09/25 15:40'"
      ]
     },
     "execution_count": 30,
     "metadata": {},
     "output_type": "execute_result"
    }
   ],
   "source": [
    "record[\"DbInfo\"][\"LastUpdate\"]"
   ]
  },
  {
   "cell_type": "markdown",
   "metadata": {},
   "source": [
    "Let's perform a search with the term \"biopython\""
   ]
  },
  {
   "cell_type": "code",
   "execution_count": 31,
   "metadata": {},
   "outputs": [],
   "source": [
    "handle = Entrez.esearch(db=\"pubmed\", term=\"biopython\")\n",
    "result = Entrez.read(handle)"
   ]
  },
  {
   "cell_type": "markdown",
   "metadata": {},
   "source": [
    "The code below is taken from https://gist.github.com/ehazlett/1104507"
   ]
  },
  {
   "cell_type": "code",
   "execution_count": 32,
   "metadata": {},
   "outputs": [
    {
     "name": "stdout",
     "output_type": "stream",
     "text": [
      "Total number of publications containing biopython: 24\n",
      "Titles:\n",
      "A high level interface to SCOP and ASTRAL implemented in python.\n",
      "A toolkit for bulk PCR-based marker design from next-generation sequence data: application for development of a framework linkage map in bulb onion (Allium cepa L.).\n",
      "AMASS: a database for investigating protein structures.\n",
      "Bio.Phylo: a unified toolkit for processing, analyzing and visualizing phylogenetic trees in Biopython.\n",
      "BioSmalltalk: a pure object system and library for bioinformatics.\n",
      "Biopython: freely available Python tools for computational molecular biology and bioinformatics.\n",
      "Enzymes/non-enzymes classification model complexity based on composition, sequence, 3D and topological indices.\n",
      "Exploratory visual analysis of conserved domains on multiple sequence alignments.\n",
      "Fast motif matching revisited: high-order PWMs, SNPs and indels.\n",
      "FastaValidator: an open-source Java library to parse and validate FASTA formatted sequences.\n",
      "HPDB-Haskell library for processing atomic biomolecular structures in Protein Data Bank format.\n",
      "JASPAR 2014: an extensively expanded and updated open-access database of transcription factor binding profiles.\n",
      "Letter to the editor: SeqXML and OrthoXML: standards for sequence and orthology information.\n",
      "MOODS: fast search for position weight matrix matches in DNA sequences.\n",
      "PyPathway: Python Package for Biological Network Analysis and Visualization.\n",
      "Sharing programming resources between Bio* projects through remote procedure call and native call stack strategies.\n",
      "The Sanger FASTQ file format for sequences with quality scores, and the Solexa/Illumina FASTQ variants.\n",
      "corseq: fast and efficient identification of favoured codons from next generation sequencing reads.\n",
      "interPopula: a Python API to access the HapMap Project dataset.\n",
      "msatcommander: detection of microsatellite repeat arrays and automated, locus-specific primer design.\n"
     ]
    }
   ],
   "source": [
    "print('Total number of publications containing {0}: {1}'.format(\"biopython\", result['Count']))\n",
    "ids = result['IdList']\n",
    "h = Entrez.efetch(db='pubmed', id=ids, rettype='medline', retmode='text')\n",
    "records = Medline.parse(h)\n",
    "\n",
    "titles = []\n",
    "for record in records:\n",
    "    title = record.get('TI', '?')\n",
    "    titles.append(title)\n",
    "    titles.sort()\n",
    "print('Titles:\\n{0}'.format('\\n'.join(titles)))"
   ]
  }
 ],
 "metadata": {
  "kernelspec": {
   "display_name": "Python 3",
   "language": "python",
   "name": "python3"
  },
  "language_info": {
   "codemirror_mode": {
    "name": "ipython",
    "version": 3
   },
   "file_extension": ".py",
   "mimetype": "text/x-python",
   "name": "python",
   "nbconvert_exporter": "python",
   "pygments_lexer": "ipython3",
   "version": "3.6.6"
  }
 },
 "nbformat": 4,
 "nbformat_minor": 2
}
