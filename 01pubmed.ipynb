{
 "cells": [
  {
   "cell_type": "code",
   "execution_count": 1,
   "metadata": {},
   "outputs": [],
   "source": [
    "from Bio import Entrez\n",
    "from Bio import Medline"
   ]
  },
  {
   "cell_type": "markdown",
   "metadata": {},
   "source": [
    "General inquiry to Pubmed database"
   ]
  },
  {
   "cell_type": "code",
   "execution_count": 2,
   "metadata": {},
   "outputs": [
    {
     "data": {
      "text/plain": [
       "'PubMed bibliographic record'"
      ]
     },
     "execution_count": 2,
     "metadata": {},
     "output_type": "execute_result"
    }
   ],
   "source": [
    "Entrez.email = \"alperyilmaz@gmail.com\"\n",
    "handle = Entrez.einfo(db=\"pubmed\")\n",
    "record = Entrez.read(handle)\n",
    "record[\"DbInfo\"][\"Description\"]"
   ]
  },
  {
   "cell_type": "code",
   "execution_count": 3,
   "metadata": {},
   "outputs": [
    {
     "data": {
      "text/plain": [
       "'28955139'"
      ]
     },
     "execution_count": 3,
     "metadata": {},
     "output_type": "execute_result"
    }
   ],
   "source": [
    "record[\"DbInfo\"][\"Count\"]"
   ]
  },
  {
   "cell_type": "code",
   "execution_count": 4,
   "metadata": {},
   "outputs": [
    {
     "data": {
      "text/plain": [
       "'2018/10/15 15:35'"
      ]
     },
     "execution_count": 4,
     "metadata": {},
     "output_type": "execute_result"
    }
   ],
   "source": [
    "record[\"DbInfo\"][\"LastUpdate\"]"
   ]
  },
  {
   "cell_type": "markdown",
   "metadata": {},
   "source": [
    "Let's perform a search with the term \"biopython\""
   ]
  },
  {
   "cell_type": "code",
   "execution_count": 5,
   "metadata": {},
   "outputs": [],
   "source": [
    "handle = Entrez.esearch(db=\"pubmed\", term=\"biopython\")\n",
    "result = Entrez.read(handle)"
   ]
  },
  {
   "cell_type": "markdown",
   "metadata": {},
   "source": [
    "The code below is taken from https://gist.github.com/ehazlett/1104507"
   ]
  },
  {
   "cell_type": "code",
   "execution_count": 6,
   "metadata": {},
   "outputs": [
    {
     "name": "stdout",
     "output_type": "stream",
     "text": [
      "Total number of publications containing biopython: 24\n",
      "Titles:\n",
      "A high level interface to SCOP and ASTRAL implemented in python.\n",
      "A toolkit for bulk PCR-based marker design from next-generation sequence data: application for development of a framework linkage map in bulb onion (Allium cepa L.).\n",
      "AMASS: a database for investigating protein structures.\n",
      "Bio.Phylo: a unified toolkit for processing, analyzing and visualizing phylogenetic trees in Biopython.\n",
      "BioSmalltalk: a pure object system and library for bioinformatics.\n",
      "Biopython: freely available Python tools for computational molecular biology and bioinformatics.\n",
      "Enzymes/non-enzymes classification model complexity based on composition, sequence, 3D and topological indices.\n",
      "Exploratory visual analysis of conserved domains on multiple sequence alignments.\n",
      "Fast motif matching revisited: high-order PWMs, SNPs and indels.\n",
      "FastaValidator: an open-source Java library to parse and validate FASTA formatted sequences.\n",
      "HPDB-Haskell library for processing atomic biomolecular structures in Protein Data Bank format.\n",
      "JASPAR 2014: an extensively expanded and updated open-access database of transcription factor binding profiles.\n",
      "Letter to the editor: SeqXML and OrthoXML: standards for sequence and orthology information.\n",
      "MOODS: fast search for position weight matrix matches in DNA sequences.\n",
      "PyPathway: Python Package for Biological Network Analysis and Visualization.\n",
      "Sharing programming resources between Bio* projects through remote procedure call and native call stack strategies.\n",
      "The Sanger FASTQ file format for sequences with quality scores, and the Solexa/Illumina FASTQ variants.\n",
      "corseq: fast and efficient identification of favoured codons from next generation sequencing reads.\n",
      "interPopula: a Python API to access the HapMap Project dataset.\n",
      "msatcommander: detection of microsatellite repeat arrays and automated, locus-specific primer design.\n"
     ]
    }
   ],
   "source": [
    "print('Total number of publications containing {0}: {1}'.format(\"biopython\", result['Count']))\n",
    "ids = result['IdList']\n",
    "h = Entrez.efetch(db='pubmed', id=ids, rettype='medline', retmode='text')\n",
    "records = Medline.parse(h)\n",
    "\n",
    "titles = []\n",
    "for record in records:\n",
    "    title = record.get('TI', '?')\n",
    "    titles.append(title)\n",
    "    titles.sort()\n",
    "print('Titles:\\n{0}'.format('\\n'.join(titles)))"
   ]
  },
  {
   "cell_type": "markdown",
   "metadata": {},
   "source": [
    "Another approach, taken from [SO answer](https://stackoverflow.com/a/45995164/4579196)"
   ]
  },
  {
   "cell_type": "code",
   "execution_count": 10,
   "metadata": {},
   "outputs": [
    {
     "name": "stdout",
     "output_type": "stream",
     "text": [
      "Metabolic syndrome (MetS) is defined as the co-occurrence of metabolic risk factors that includes insulin resistance, hyperinsulinemia, impaired glucose tolerance, type 2 diabetes mellitus, dyslipidemia, and visceral obesity. The clinical significance of MetS consists of identifying a subgroup of patients sharing a common physiopathological state predisposing to chronic diseases. Clinical and scientific studies pinpoint lifestyle modification as an effective strategy aiming to reduce several features accountable for the risk of MetS onset. Among the healthy dietary patterns, the Mediterranean diet (MedDiet) emerges in terms of beneficial properties associated with longevity. Current evidence highlights the protective effect exerted by MedDiet on the different components of MetS. Interestingly, the effect exerted by polyphenols contained within the representative MedDiet components (i.e., olive oil, red wine, and nuts) seems to be accountable for the beneficial properties associated to this dietary pattern. In this review, we aim to summarize the principal evidence regarding the effectiveness of MedDiet-polyphenols in preventing or delaying the physiopathological components accountable for MetS onset. These findings may provide useful insights concerning the health properties of MedDiet-polyphenols as well as the novel targets destined to a tailored approach to MetS.South Asian population is facing rapid changes in dietary pattern with a shift from healthy traditional high fibre diet to calorie-dense low fibre. This has resulted in epidemic of lifestyle disorders including diabetes, obesity and cardiovascular disease in these populations. High fibre diet has shown to decrease risk of these lifestyle disorders as well as many gastrointestinal disorders including colorectal cancer. There is an urgent need to increase fibre component in the diet of these populations to prevent the lifestyle disorders. This review focusses on health benefits of high fibre diet and ways to increase fibre in South Asian diet.Obese women diagnosed with breast cancer have an increased risk for metastasis, and the underlying mechanisms are not well established. Within the mammary gland, adipose-derived stromal cells (ASCs) are heterogeneous cells with the capacity to differentiate into multiple mesenchymal lineages. To study the effects of obesity on ASCs, mice were fed a control diet (CD) or high-fat diet (HFD) to induce obesity, and ASCs were isolated from the mammary glands of lean and obese mice. We observed that obesity increased ASCs proliferation, decreased differentiation potential, and upregulated expression of α-smooth muscle actin, a marker of activated fibroblasts, compared to ASCs from lean mice. To determine how ASCs from obese mice impacted tumor growth, we mixed ASCs isolated from CD- or HFD-fed mice with mammary tumor cells and injected them into the mammary glands of lean mice. Tumor cells mixed with ASCs from obese mice grew significantly larger tumors and had increased invasion into surrounding adipose tissue than tumor cells mixed with control ASCs. ASCs from obese mice demonstrated enhanced tumor cell invasion in culture, a phenotype associated with increased expression of insulin-like growth factor-1 (IGF-1) and abrogated by IGF-1 neutralizing antibodies. Weight loss induced in obese mice significantly decreased expression of IGF-1 from ASCs and reduced the ability of the ASCs to induce an invasive phenotype. Together, these results suggest that obesity enhances local invasion of breast cancer cells through increased expression of IGF-1 by mammary ASCs, and weight loss may reverse this tumor-promoting phenotype.To study the use of functional capacity (FC) level and duration of aromatase inhibitor (AI) therapy with adiposity parameters in women with breast cancer.Polycystic ovary syndrome (PCOS) is a reproductive, endocrine, and metabolic disorder affecting millions of women worldwide. Women with PCOS are often identified in adolescence or early adulthood with symptoms of oligomenorrhea or hirsutism or when presenting for infertility care. The health risks associated out of PCOS, however, go far beyond management of these common presenting symptoms or fertility treatment and likely extend past the reproductive years through and beyond menopause. International surveys suggest that most patients are dissatisfied with long-term counseling related to medical and psychologic issues. We performed a review of comorbidities, including diabetes mellitus, dyslipidemia, obesity, hypertension, metabolic syndrome, depression, anxiety, obstructive sleep apnea, nonalcoholic fatty liver disease, endometrial cancer, and cardiovascular disease, in both reproductive-age and older women with PCOS. Most meta-analyses in reproductive-age women demonstrate increased risks independent from obesity. Longitudinal and cross-sectional studies including women with PCOS >40 years of age are limited in number and design, but many demonstrate that some of these comorbidities persist. All providers involved in the multidimensional care of women with PCOS should be aware of these long-term health risks to provide appropriate counseling, screening, and management options. We identify limitations that should be the focus of future studies designed to study health outcomes in postmenopausal women with PCOS.Although a pre-pregnancy dietary intervention is believed to be able to prevent offspring obesity, research evidence is absent. We hypothesize that a long period of pre-pregnancy maternal diet transition from a high-fat (HF) diet to a normal-fat (NF) diet effectively prevents offspring obesity, and this preventive effect is independent of maternal body weight change. In our study, female mice were either continued on an NF diet (NF group) or an HF diet (HF group) until weaning, or switched from an HF to an NF for 1 week (H1N group), 5 weeks (H5N group) or 9 weeks (H9N group) before pregnancy. After weaning, the offspring were given the HF diet for 12 weeks to promote obesity. The mothers, regardless of which group, did not display maternal body weight change and glucose intolerance either before pregnancy or after weaning. Compared to the HF group, the H1N and H5N, but not the H9N, offspring developed glucose intolerance earlier, with more severely imbalanced glucose homeostasis. These offspring also displayed hepatocyte degeneration and significant adipocyte hypertrophy associated with higher expression of lipogenesis genes. The molecular mechanistic study showed blunted insulin signaling, overactivated adipocyte Akt signaling and hepatic AMPK signaling with enhanced lipogenesis genes in the H1N and H5N versus the NF offspring. However, maternal H9N diets normalized glucose and lipid metabolism of the offspring via resensitized insulin signaling and normalized Akt and AMPK signaling. In summary, we showed that a long-term maternal diet intervention effectively released the intergenerational obesogenic effect of maternal HF diet independent of maternal weight management.In Korea, depressive symptoms or depression are prevalent. Metabolic syndrome is the representative medical condition associated with depression. This study examined the association between clinically significant depressive symptoms and intra-abdominal fat, measured using abdominal computed tomography, in a large sample of the Korean population who underwent routine health examination.Currently, the numbers of patients with cancer, fibrosis, diabetes, chronic kidney disease, stroke and osteoporosis are increasing fast and fast. It's critical necessary to discovery lead compounds for new drug development. Dioscin, one active compound in some medicinal plants, has anti-inflammation, immunoregulation, hypolipidemic, anti-viral, anti-fungal and anti-allergic effects. In recent years, dioscin has reached more and more attention with its potent effects to treat liver, kidney, brain, stomach and intestine damages, and metabolic diseases including diabetes, osteoporosis, obesity, hyperuricemia as well as its anti-cancer activities through adjusting multiple targets and multiple signals. Therefore, dioscin is a promising multi-target candidate to treat various diseases. This review paper summarized the progress on pharmacological activities and mechanisms of dioscin, which may provide useful data for development and exploration of this natural product in the further.Myelodysplastic syndromes (MDS) consist of a heterogeneous group of myeloid neoplasms characterized by inefficient hematopoiesis, variable cytopenias and a considerable risk of progression to acute myeloid leukemia. Epidemiological assessment of MDS has been hampered by evolving diagnostic criteria and delayed classification of MDS as cancers until 2001. The poorly-understood nature of these neoplasms combined with the lack of effective therapies for decades contributed to suboptimal case ascertainment and underreporting. The annual age-adjusted incidence in the United States is approximately 4.0/100,000 persons, and the incidence substantially rises with age. Beyond age, other risk factors include male gender, obesity, smoking, and prior receipt of radiotherapy or chemotherapy, but most cases remain idiopathic in nature. The overall 5-year survival probability remains relatively poor at approximately 31% without a clear temporal improvement in outcomes despite the approval of three MDS-specific therapies since 2004 and increasing use of allogeneic hematopoietic stem cell transplantation. Better understanding of epidemiological trends of MDS will likely require incorporation of the key genetic determinants of the disease into consistent diagnostic paradigms that go beyond traditional morphologic assessments. The heterogeneity of the disease and lack of uniformly-defined genetic markers makes such a task difficult. Thorough case ascertainment and reporting efforts can provide vital insights that could inform treatment decisions and eventually improve the outcomes of patients with MDS.Obesity prevalence is higher in children with developmental disabilities as compared to their typically developing peers. Research on dietary intake assessment methods in this vulnerable population is lacking. The objectives of this study were to assess the feasibility, acceptability, and compare the nutrient intakes of two technology-based dietary assessment methods in children with-and-without developmental disabilities. This cross-sectional feasibility study was an added aim to a larger pilot study. Children (<i>n</i> = 12; 8⁻18 years) diagnosed with spina bifida, Down syndrome, or without disability were recruited from the larger study sample, stratified by diagnosis. Participants were asked to complete six days of a mobile food record (mFR™), a 24-h dietary recall via FaceTime<sup>®</sup> (24 HR-FT), and a post-study survey. Analysis included descriptive statistics for survey results and a paired samples <i>t</i>-test for nutrient intakes. All participants successfully completed six days of dietary assessment using both methods and acceptability was high. Energy (kcal) and protein (g) intake was significantly higher for the mFR™ as compared to the 24 HR-FT (<i>p</i> = 0.041; <i>p</i> = 0.014, respectively). Each method had strengths and weaknesses. The two technology-based dietary assessment tools were well accepted and when combined could increase accuracy of self-reported dietary assessment in children with-and-without disability.A series of novel ureido benzenesulfonamides incorporating 1,3,5-triazine moieties were obtained by reacting 4-isocyanato-benzenesulfonamide (2) with 2-amino-4,6-dicholoro-1,3,5-triazine (4). The 4-(3-(4,6-dichloro-1,3,5-triazin-2-yl)ureido) benzenesulfonamide (5) was subsequently derivatized by reaction with various nucleophiles such as, morpholine, ammonia, methyl amine, dimethyl amine, and piperidine. The ureido benzenesulfonamides incorporating triazinyl moieties were investigated as inhibitors of four selected physiologically relevant human carbonic anhydrase (hCA, EC 4.2.1.1) isoforms, namely, hCA I, II, IX, and XII which are involved in various diseases such as glaucoma, epilepsy, obesity and cancer. The membrane-bound tumor-associated isoform hCA IX was potently inhibited with these compounds with K<sub>i</sub>s in the range of 0.91-126.2 nM. Specifically, compound 7j showed great potency against hCA IX with sub-nanomolar K<sub>i</sub> of 0.91 nM. Since hCA IX is a validated drug target for anticancer agents, these isoform-selective and potent inhibitors may be considered of interest for further medicinal/pharmacologic studies.Androgen-deprivation therapy (ADT) entails lowering serum testosterone levels to castrate levels and forms a cornerstone of the management of hormone-sensitive advanced prostate cancer; however, the benefit of ADT is partially offset by its detrimental metabolic and cardiovascular adverse effects. ADT decreases insulin sensitivity while promoting dyslipidemia and sarcopenic obesity, which leads to an increased risk of cardiovascular morbidity and potentially mortality. The risk seems to be highest in elderly patients who have had recent cardiovascular events before starting ADT. It is prudent to engage in an individualized risk-benefit discussion and develop a cohesive multidisciplinary management plan to medically optimize and closely observe these patients before and during treatment with ADT.To compare the prevalence of chronic liver disease (CLD) risk factors in a representative sample of Mexican-Americans born in the United States (US) or Mexico, to a sample of adults in Mexico.To investigate the association of body mass index with all-cause, cardiovascular and cancer mortality in individuals with and without diabetes.Pancreatic cancer (PC) is a deadly disease that is most commonly diagnosed at an incurable stage. Early diagnosis is the most important factor for improving prognosis. Evidence is beginning to accumulate that screening and surveillance may lead to the early detection of precursor lesions and/or pancreatic cancer in asymptomatic individuals. Proper screening methods and identification of such precursor lesions may enable effective pre-emptive interventions to prevent further fatalities. The primary objective of this project was to examine the feasibility of identifying precursor or early cancerous lesions in high-risk individuals by endoscopic ultrasound (EUS) screening to prevent the deaths from pancreatic cancer.To identify factors associated with high weight gain and obesity duration in a representative sample of Norwegian women.RAP1, a component of the telomere-protective shelterin complex, has been shown to have both telomeric and non-telomeric roles. In the liver, RAP1 is involved in the regulation of metabolic transcriptional programs. RAP1-deficient mice develop obesity and hepatic steatosis, these phenotypes being more severe in females than in males. As hepatic steatosis and obesity have been related to increased liver cancer in mice and humans, we set out to address whether RAP1 deficiency resulted in increased liver cancer upon chemical liver carcinogenesis. We found that Rap1-/- females were more susceptible to DEN-induced liver damage and hepatocellular carcinoma (HCC). DEN-treated Rap1-/- female livers showed an earlier onset of both premalignant and malignant liver lesions, which were characterized by increased abundance of γH2AX-positive cells, increased proliferation and shorter telomeres. These findings highlight an important role for RAP1 in protection from liver damage and liver cancer.E-selectin mediates the rolling of circulating leukocytes during inflammatory processes. Previous genome-wide association studies (GWAS) in European and Asian individuals have identified the ABO locus associated with E-selectin levels. Using Trans-Omics for Precision Medicine (TOPMed) whole-genome sequencing (WGS) data in 2,249 African Americans (AAs) from the Jackson Heart Study (JHS), we examined genome-wide associations with soluble E-selectin levels. In addition to replicating known signals at ABO, we identified a novel association of a common loss-of-function, missense variant in FUT6 (rs17855739,p.Glu274Lys, p=9.02 x 10-24) with higher soluble E-selectin levels. This variant is considerably more common in populations of African-ancestry compared to non-African ancestry populations. We replicated the association of FUT6 p.Glu274Lys with higher soluble E-selectin in an independent population of 748 AAs from the Women's Health Initiative and identified an additional pleiotropic association with vitamin B12 levels. Despite the broad role of both selectins and fucosyltransferases in various inflammatory, immune and cancer-related processes, we were unable to identify any additional disease associations of the FUT6 p.Glu274Lys variant in an EMR-based phenome-wide association scan of over 9,000 African Americans.Fatty acids are essential nutrients that contribute to several intracellular functions. Fatty acid synthesis and oxidation are known to be regulated by sterol regulatory element-binding proteins (SREBPs), which play a pivotal role in the regulation of cellular triglyceride synthesis and cholesterol biogenesis. Recent studies point to a multifunctional role of SREBPs in the pathogenesis of metabolic diseases, such as obesity, type II diabetes and cancer as well as in immune responses. Notably, fatty acid metabolic intermediates are involved in energy homeostasis and pathophysiological conditions. In particular, intracellular fatty acid metabolism affects an inflammatory response, thereby influencing metabolic diseases. The objective of this review is to summarize the recent advances in our understanding of the dual role of SREBPs in both lipid metabolism and inflammation-mediated metabolic diseases.\n"
     ]
    }
   ],
   "source": [
    "from Bio import Entrez\n",
    "\n",
    "Entrez.email = \"anonymous@gmail.com\"\n",
    "\n",
    "esearch_query = Entrez.esearch(db=\"pubmed\", term=\"cancer AND obesity\", retmode=\"xml\")\n",
    "esearch_result = Entrez.read(esearch_query)\n",
    "\n",
    "all_text = \"\"\n",
    "\n",
    "for identifier in esearch_result['IdList']:\n",
    "    pubmed_entry = Entrez.efetch(db=\"pubmed\", id=identifier, retmode=\"xml\")\n",
    "    result = Entrez.read(pubmed_entry)\n",
    "\n",
    "    article = result['PubmedArticle'][0]['MedlineCitation']['Article']\n",
    "\n",
    "    if 'Abstract' in article:\n",
    "        #print(article['Abstract']['AbstractText'])\n",
    "        all_text = all_text + article['Abstract']['AbstractText'][0]\n",
    "\n",
    "print(all_text)"
   ]
  },
  {
   "cell_type": "markdown",
   "metadata": {},
   "source": [
    "There are several ways to count words. Please check the list [here](https://codeburst.io/python-basics-11-word-count-filter-out-punctuation-dictionary-manipulation-and-sorting-lists-3f6c55420855)"
   ]
  },
  {
   "cell_type": "code",
   "execution_count": 18,
   "metadata": {},
   "outputs": [
    {
     "name": "stdout",
     "output_type": "stream",
     "text": [
      "[(104, 'of'), (92, 'and'), (80, 'the'), (57, 'to'), (57, 'in'), (42, 'with'), (37, 'a'), (22, 'is'), (18, 'for'), (18, 'an'), (16, 'or'), (16, 'from'), (16, 'as'), (16, 'The'), (15, 'diet'), (14, 'that'), (13, 'were'), (13, 'by'), (12, 'these'), (11, 'increased'), (11, 'are'), (10, 'metabolic'), (10, 'dietary'), (9, 'this'), (9, 'risk'), (9, 'mice'), (9, 'liver'), (9, 'ASCs'), (8, 'women'), (8, 'study'), (8, 'obesity,'), (8, 'obesity'), (8, 'cancer'), (8, 'associated'), (7, 'we'), (7, 'maternal'), (7, 'be'), (7, 'association'), (7, 'In'), (6, 'which'), (6, 'well'), (6, 'was'), (6, 'patients'), (6, 'on'), (6, 'offspring'), (6, 'more'), (6, 'may'), (6, 'health'), (6, 'has'), (6, 'disease'), (6, 'cells'), (6, 'cardiovascular'), (6, 'both'), (6, 'assessment'), (6, 'We'), (6, 'This'), (5, 'weight'), (5, 'such'), (5, 'studies'), (5, 'role'), (5, 'obese'), (5, 'mammary'), (5, 'including'), (5, 'higher'), (5, 'have'), (5, 'glucose'), (5, 'fibre'), (5, 'expression'), (5, 'HF'), (4, 'various'), (4, 'tumor'), (4, 'symptoms'), (4, 'showed'), (4, 'sample'), (4, 'review'), (4, 'representative'), (4, 'provide'), (4, 'prevent'), (4, 'population'), (4, 'most'), (4, 'methods'), (4, 'management'), (4, 'lifestyle'), (4, 'levels.'), (4, 'involved'), (4, 'into'), (4, 'insulin'), (4, 'independent'), (4, 'identified'), (4, 'hCA'), (4, 'group)'), (4, 'factors'), (4, 'effect'), (4, 'diseases.'), (4, 'compared'), (4, 'common'), (4, 'before'), (4, 'E-selectin'), (3, 'without'), (3, 'weeks'), (3, 'variant'), (3, 'treatment'), (3, 'through'), (3, 'syndrome'), (3, 'soluble'), (3, 'significantly'), (3, 'signaling'), (3, 'screening'), (3, 'risks'), (3, 'recent'), (3, 'properties'), (3, 'precursor'), (3, 'outcomes'), (3, 'obesity.'), (3, 'novel'), (3, 'not'), (3, 'multiple'), (3, 'mixed'), (3, 'mice.'), (3, 'metabolism'), (3, 'long-term'), (3, 'lesions'), (3, 'lean'), (3, 'larger'), (3, 'its'), (3, 'invasion'), (3, 'individuals'), (3, 'increase'), (3, 'identify'), (3, 'high'), (3, 'hepatic'), (3, 'had'), (3, 'fatty'), (3, 'evidence'), (3, 'effective'), (3, 'early'), (3, 'disorders'), (3, 'disease,'), (3, 'diagnosed'), (3, 'diabetes,'), (3, 'diabetes'), (3, 'components'), (3, 'chronic'), (3, 'children'), (3, 'but'), (3, 'breast'), (3, 'body'), (3, 'beyond'), (3, 'been'), (3, 'at'), (3, 'acid'), (3, 'accountable'), (3, 'These'), (3, 'RAP1'), (3, 'PCOS'), (3, 'NF'), (3, 'MetS'), (3, 'MDS'), (3, 'IX'), (3, 'IGF-1'), (3, 'FUT6'), (3, 'Asian'), (3, '=')]\n"
     ]
    }
   ],
   "source": [
    "word_list = all_text.split()\n",
    "\n",
    "# initializing a dictionary\n",
    "d = {};\n",
    "\n",
    "# counting number of times each word comes up in list of words\n",
    "for key in word_list: \n",
    "    d[key] = d.get(key, 0) + 1\n",
    "\n",
    "#sorted(d.items(), key = lambda x: x[1], reverse = True)\n",
    "\n",
    "word_freq = []\n",
    "for key, value in d.items():\n",
    "    if value > 2:\n",
    "        word_freq.append((value, key))\n",
    "    \n",
    "word_freq.sort(reverse=True) \n",
    "print(word_freq)"
   ]
  },
  {
   "cell_type": "code",
   "execution_count": null,
   "metadata": {},
   "outputs": [],
   "source": []
  }
 ],
 "metadata": {
  "kernelspec": {
   "display_name": "Python 3",
   "language": "python",
   "name": "python3"
  },
  "language_info": {
   "codemirror_mode": {
    "name": "ipython",
    "version": 3
   },
   "file_extension": ".py",
   "mimetype": "text/x-python",
   "name": "python",
   "nbconvert_exporter": "python",
   "pygments_lexer": "ipython3",
   "version": "3.6.6"
  }
 },
 "nbformat": 4,
 "nbformat_minor": 2
}
