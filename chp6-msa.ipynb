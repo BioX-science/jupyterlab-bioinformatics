{
 "cells": [
  {
   "cell_type": "markdown",
   "metadata": {},
   "source": [
    "# Multiple Sequence Alignment"
   ]
  },
  {
   "cell_type": "markdown",
   "metadata": {},
   "source": [
    "## Single alignments"
   ]
  },
  {
   "cell_type": "code",
   "execution_count": 2,
   "metadata": {},
   "outputs": [],
   "source": [
    "from Bio import AlignIO\n",
    "alignment = AlignIO.read(\"files/PF05371_seed.sth\", \"stockholm\")"
   ]
  },
  {
   "cell_type": "code",
   "execution_count": 4,
   "metadata": {},
   "outputs": [
    {
     "name": "stdout",
     "output_type": "stream",
     "text": [
      "SingleLetterAlphabet() alignment with 7 rows and 52 columns\n",
      "AEGDDP---AKAAFDSLQASATEYIGYAWAMVVVIVGATIGIKL...SKA Q9T0Q9_BPFD/1-49\n",
      "AEGDDP---AKAAFNSLQASATEYIGYAWAMVVVIVGATIGIKL...SKA J7I0P6_BPM13/24-72\n",
      "AEGDDP---AKAAFDSLQASATEYIGYAWAMVVVIVGATIGIKL...SKA CAPSD_BPZJ2/1-49\n",
      "FAADDATSQAKAAFDSLTAQATEMSGYAWALVVLVVGATVGIKL...SRA CAPSD_BPIF1/22-73\n",
      "AEPNAATNYATEAMDSLKTQAIDLISQTWPVVTTVVVAGLVIKL...SRA Q9T0Q8_BPIKE/1-52\n",
      "DGTSTATSYATEAMNSLKTQATDLIDQTWPVVTSVAVAGLAIRL...SKA CAPSD_BPI22/32-83\n",
      "AEPNAATNYATEAMDSLKTQAIDLISQTWPVVTTVVVAGLVIRL...SKA CAPSD_BPIKE/30-81\n"
     ]
    }
   ],
   "source": [
    "print(alignment)"
   ]
  },
  {
   "cell_type": "code",
   "execution_count": 6,
   "metadata": {},
   "outputs": [
    {
     "name": "stdout",
     "output_type": "stream",
     "text": [
      "AEGDDP---AKAAFDSLQASATEYIGYAWAMVVVIVGATIGIKLFKKFTSKA - Q9T0Q9_BPFD/1-49\n",
      "AEGDDP---AKAAFNSLQASATEYIGYAWAMVVVIVGATIGIKLFKKFTSKA - J7I0P6_BPM13/24-72\n",
      "AEGDDP---AKAAFDSLQASATEYIGYAWAMVVVIVGATIGIKLFKKFASKA - CAPSD_BPZJ2/1-49\n",
      "FAADDATSQAKAAFDSLTAQATEMSGYAWALVVLVVGATVGIKLFKKFVSRA - CAPSD_BPIF1/22-73\n",
      "AEPNAATNYATEAMDSLKTQAIDLISQTWPVVTTVVVAGLVIKLFKKFVSRA - Q9T0Q8_BPIKE/1-52\n",
      "DGTSTATSYATEAMNSLKTQATDLIDQTWPVVTSVAVAGLAIRLFKKFSSKA - CAPSD_BPI22/32-83\n",
      "AEPNAATNYATEAMDSLKTQAIDLISQTWPVVTTVVVAGLVIRLFKKFSSKA - CAPSD_BPIKE/30-81\n"
     ]
    }
   ],
   "source": [
    "for record in alignment:\n",
    "    print(\"%s - %s\" % (record.seq, record.id))"
   ]
  },
  {
   "cell_type": "code",
   "execution_count": 8,
   "metadata": {},
   "outputs": [
    {
     "name": "stdout",
     "output_type": "stream",
     "text": [
      "SingleLetterAlphabet() alignment with 7 rows and 52 columns\n",
      "AEGDDP...AKAAFDSLQASATEYIGYAWAMVVVIVGATIGIKL...SKA Q9T0Q9_BPFD/1-49\n",
      "AEGDDP...AKAAFNSLQASATEYIGYAWAMVVVIVGATIGIKL...SKA J7I0P6_BPM13/24-72\n",
      "AEGDDP...AKAAFDSLQASATEYIGYAWAMVVVIVGATIGIKL...SKA CAPSD_BPZJ2/1-49\n",
      "FAADDATSQAKAAFDSLTAQATEMSGYAWALVVLVVGATVGIKL...SRA CAPSD_BPIF1/22-73\n",
      "AEPNAATNYATEAMDSLKTQAIDLISQTWPVVTTVVVAGLVIKL...SRA Q9T0Q8_BPIKE/1-52\n",
      "DGTSTATSYATEAMNSLKTQATDLIDQTWPVVTSVAVAGLAIRL...SKA CAPSD_BPI22/32-83\n",
      "AEPNAATNYATEAMDSLKTQAIDLISQTWPVVTTVVVAGLVIRL...SKA CAPSD_BPIKE/30-81\n"
     ]
    }
   ],
   "source": [
    "from Bio import AlignIO\n",
    "alignment = AlignIO.read(\"files/PF05371_seed.faa\", \"fasta\")\n",
    "print(alignment)"
   ]
  },
  {
   "cell_type": "markdown",
   "metadata": {},
   "source": [
    "## Multiple alignments"
   ]
  },
  {
   "cell_type": "code",
   "execution_count": 14,
   "metadata": {},
   "outputs": [
    {
     "name": "stdout",
     "output_type": "stream",
     "text": [
      "SingleLetterAlphabet() alignment with 5 rows and 6 columns\n",
      "AACAAC Alpha\n",
      "AACCCC Beta\n",
      "ACCAAC Gamma\n",
      "CCACCA Delta\n",
      "CCAAAC Epsilon\n"
     ]
    }
   ],
   "source": [
    "alignment = AlignIO.read(\"files/single.phy\", \"phylip\")\n",
    "print(alignment)"
   ]
  },
  {
   "cell_type": "code",
   "execution_count": 16,
   "metadata": {},
   "outputs": [
    {
     "name": "stdout",
     "output_type": "stream",
     "text": [
      "SingleLetterAlphabet() alignment with 5 rows and 6 columns\n",
      "AACAAC Alpha\n",
      "AACCCC Beta\n",
      "ACCAAC Gamma\n",
      "CCACCA Delta\n",
      "CCAAAC Epsilon\n",
      "SingleLetterAlphabet() alignment with 5 rows and 6 columns\n",
      "AAACCA Alpha\n",
      "AAACCC Beta\n",
      "ACCCCA Gamma\n",
      "CCCAAC Delta\n",
      "CCCAAA Epsilon\n",
      "SingleLetterAlphabet() alignment with 5 rows and 6 columns\n",
      "AAACAA Alpha\n",
      "AAACCC Beta\n",
      "ACCCAA Gamma\n",
      "CCCACC Delta\n",
      "CCCAAA Epsilon\n",
      "\n"
     ]
    }
   ],
   "source": [
    "from Bio import AlignIO\n",
    "alignments = AlignIO.parse(\"files/resampled.phy\", \"phylip\")\n",
    "for alignment in alignments:\n",
    "    print(alignment)\n",
    "print(\"\")"
   ]
  },
  {
   "cell_type": "markdown",
   "metadata": {},
   "source": [
    "Iterator vs. list"
   ]
  },
  {
   "cell_type": "code",
   "execution_count": 18,
   "metadata": {},
   "outputs": [
    {
     "name": "stdout",
     "output_type": "stream",
     "text": [
      "SingleLetterAlphabet() alignment with 5 rows and 6 columns\n",
      "AAACAA Alpha\n",
      "AAACCC Beta\n",
      "ACCCAA Gamma\n",
      "CCCACC Delta\n",
      "CCCAAA Epsilon\n"
     ]
    }
   ],
   "source": [
    "from Bio import AlignIO\n",
    "alignments = list(AlignIO.parse(\"files/resampled.phy\", \"phylip\"))\n",
    "last_align = alignments[-1]\n",
    "first_align = alignments[0]\n",
    "print(last_align)"
   ]
  },
  {
   "cell_type": "markdown",
   "metadata": {},
   "source": [
    "## Writing alignments"
   ]
  },
  {
   "cell_type": "code",
   "execution_count": 19,
   "metadata": {},
   "outputs": [
    {
     "name": "stdout",
     "output_type": "stream",
     "text": [
      "[<<class 'Bio.Align.MultipleSeqAlignment'> instance (3 records of length 12, DNAAlphabet()) at 7fc6e19e4128>, <<class 'Bio.Align.MultipleSeqAlignment'> instance (3 records of length 9, DNAAlphabet()) at 7fc6e19e42b0>, <<class 'Bio.Align.MultipleSeqAlignment'> instance (3 records of length 13, DNAAlphabet()) at 7fc6e19e4438>]\n"
     ]
    }
   ],
   "source": [
    "from Bio.Alphabet import generic_dna\n",
    "from Bio.Seq import Seq\n",
    "from Bio.SeqRecord import SeqRecord\n",
    "from Bio.Align import MultipleSeqAlignment\n",
    "\n",
    "\n",
    "align1 = MultipleSeqAlignment([\n",
    "    SeqRecord(Seq(\"ACTGCTAGCTAG\", generic_dna), id=\"Alpha\"),\n",
    "    SeqRecord(Seq(\"ACT-CTAGCTAG\", generic_dna), id=\"Beta\"),\n",
    "    SeqRecord(Seq(\"ACTGCTAGDTAG\", generic_dna), id=\"Gamma\"),\n",
    "])\n",
    "\n",
    "align2 = MultipleSeqAlignment([\n",
    "    SeqRecord(Seq(\"GTCAGC-AG\", generic_dna), id=\"Delta\"),\n",
    "    SeqRecord(Seq(\"GACAGCTAG\", generic_dna), id=\"Epsilon\"),\n",
    "    SeqRecord(Seq(\"GTCAGCTAG\", generic_dna), id=\"Zeta\"),\n",
    "])\n",
    "\n",
    "align3 = MultipleSeqAlignment([\n",
    "    SeqRecord(Seq(\"ACTAGTACAGCTG\", generic_dna), id=\"Eta\"),\n",
    "    SeqRecord(Seq(\"ACTAGTACAGCT-\", generic_dna), id=\"Theta\"),\n",
    "    SeqRecord(Seq(\"-CTACTACAGGTG\", generic_dna), id=\"Iota\"),\n",
    "])\n",
    "\n",
    "my_alignments = [align1, align2, align3]\n",
    "print(my_alignments)"
   ]
  },
  {
   "cell_type": "code",
   "execution_count": 27,
   "metadata": {},
   "outputs": [
    {
     "name": "stdout",
     "output_type": "stream",
     "text": [
      "DNAAlphabet() alignment with 3 rows and 12 columns\n",
      "ACTGCTAGCTAG Alpha\n",
      "ACT-CTAGCTAG Beta\n",
      "ACTGCTAGDTAG Gamma\n",
      "DNAAlphabet() alignment with 3 rows and 9 columns\n",
      "GTCAGC-AG Delta\n",
      "GACAGCTAG Epsilon\n",
      "GTCAGCTAG Zeta\n",
      "DNAAlphabet() alignment with 3 rows and 13 columns\n",
      "ACTAGTACAGCTG Eta\n",
      "ACTAGTACAGCT- Theta\n",
      "-CTACTACAGGTG Iota\n"
     ]
    }
   ],
   "source": [
    "for record in my_alignments:\n",
    "    print(record)"
   ]
  },
  {
   "cell_type": "code",
   "execution_count": 29,
   "metadata": {},
   "outputs": [
    {
     "data": {
      "text/plain": [
       "3"
      ]
     },
     "execution_count": 29,
     "metadata": {},
     "output_type": "execute_result"
    }
   ],
   "source": [
    "from Bio import AlignIO\n",
    "AlignIO.write(my_alignments, \"files/my_example.phy\", \"phylip\")"
   ]
  },
  {
   "cell_type": "markdown",
   "metadata": {},
   "source": [
    "You can view the file in jupyterlab."
   ]
  },
  {
   "cell_type": "markdown",
   "metadata": {},
   "source": [
    "## Alignment as array"
   ]
  },
  {
   "cell_type": "code",
   "execution_count": 33,
   "metadata": {},
   "outputs": [
    {
     "name": "stdout",
     "output_type": "stream",
     "text": [
      "Array shape 7 by 52\n"
     ]
    }
   ],
   "source": [
    "import numpy as np\n",
    "from Bio import AlignIO\n",
    "alignment = AlignIO.read(\"files/PF05371_seed.sth\", \"stockholm\")\n",
    "align_array = np.array([list(rec) for rec in alignment], np.character)\n",
    "print(\"Array shape %i by %i\" % align_array.shape)"
   ]
  },
  {
   "cell_type": "code",
   "execution_count": 41,
   "metadata": {},
   "outputs": [
    {
     "name": "stdout",
     "output_type": "stream",
     "text": [
      "[b'A' b'E' b'G' b'D' b'D' b'P' b'-' b'-' b'-' b'A' b'K' b'A' b'A' b'F'\n",
      " b'D' b'S' b'L' b'Q' b'A' b'S' b'A' b'T' b'E' b'Y' b'I' b'G' b'Y' b'A'\n",
      " b'W' b'A' b'M' b'V' b'V' b'V' b'I' b'V' b'G' b'A' b'T' b'I' b'G' b'I'\n",
      " b'K' b'L' b'F' b'K' b'K' b'F' b'A' b'S' b'K' b'A']\n"
     ]
    }
   ],
   "source": [
    "print(align_array[2])"
   ]
  },
  {
   "cell_type": "markdown",
   "metadata": {},
   "source": [
    "Corresponds to 3th record in alignment:\n",
    "```\n",
    "CAPSD_BPZJ2/1-49               AEGDDP...AKAAFDSLQASATEYIGYAWAMVVVIVGATIGIKLFKKFASKA\n",
    "```"
   ]
  },
  {
   "cell_type": "markdown",
   "metadata": {},
   "source": [
    "## Alignment tools"
   ]
  },
  {
   "cell_type": "code",
   "execution_count": 42,
   "metadata": {},
   "outputs": [
    {
     "data": {
      "text/plain": [
       "['ClustalOmegaCommandline',\n",
       " 'ClustalwCommandline',\n",
       " 'DialignCommandline',\n",
       " 'MSAProbsCommandline',\n",
       " 'MafftCommandline',\n",
       " 'MuscleCommandline',\n",
       " 'PrankCommandline',\n",
       " 'ProbconsCommandline',\n",
       " 'TCoffeeCommandline',\n",
       " '_ClustalOmega',\n",
       " '_Clustalw',\n",
       " '_Dialign',\n",
       " '_MSAProbs',\n",
       " '_Mafft',\n",
       " '_Muscle',\n",
       " '_Prank',\n",
       " '_Probcons',\n",
       " '_TCoffee',\n",
       " '__all__',\n",
       " '__builtins__',\n",
       " '__cached__',\n",
       " '__doc__',\n",
       " '__file__',\n",
       " '__loader__',\n",
       " '__name__',\n",
       " '__package__',\n",
       " '__path__',\n",
       " '__spec__']"
      ]
     },
     "execution_count": 42,
     "metadata": {},
     "output_type": "execute_result"
    }
   ],
   "source": [
    "import Bio.Align.Applications\n",
    "dir(Bio.Align.Applications)"
   ]
  },
  {
   "cell_type": "code",
   "execution_count": 63,
   "metadata": {},
   "outputs": [
    {
     "name": "stdout",
     "output_type": "stream",
     "text": [
      "clustalw -infile=files/opuntia.fasta\n"
     ]
    }
   ],
   "source": [
    "from Bio.Align.Applications import ClustalwCommandline\n",
    "clustalw_cline = ClustalwCommandline(\"clustalw\", infile=\"files/opuntia.fasta\")\n",
    "print(clustalw_cline)"
   ]
  },
  {
   "cell_type": "code",
   "execution_count": 64,
   "metadata": {},
   "outputs": [],
   "source": [
    "stdout, stderr = clustalw_cline()"
   ]
  },
  {
   "cell_type": "markdown",
   "metadata": {},
   "source": [
    "`optunia.aln` and `optunia.dnd` files are under `files` directory. delete `.aln` file in order to run the next command. The `dnd` file can be used to draw tree:\n",
    "\n",
    "```python\n",
    "from Bio import Phylo\n",
    "tree = Phylo.read(\"files/opuntia.dnd\", \"newick\")\n",
    "Phylo.draw_ascii(tree)\n",
    "```\n",
    "\n",
    "In our installation, we also have Clustal Omega, let's run that too."
   ]
  },
  {
   "cell_type": "code",
   "execution_count": 65,
   "metadata": {},
   "outputs": [
    {
     "name": "stdout",
     "output_type": "stream",
     "text": [
      "clustalo -i files/opuntia.fasta -o files/opuntia.aln --outfmt clustal\n"
     ]
    }
   ],
   "source": [
    "from Bio.Align.Applications import ClustalOmegaCommandline\n",
    "clustalo_cline = ClustalOmegaCommandline(\"clustalo\", infile=\"files/opuntia.fasta\", \n",
    "                                        outfile=\"files/opuntia.aln\", outfmt=\"clustal\")\n",
    "print(clustalo_cline)"
   ]
  },
  {
   "cell_type": "code",
   "execution_count": 67,
   "metadata": {},
   "outputs": [],
   "source": [
    "stdout, stderr = clustalo_cline()"
   ]
  },
  {
   "cell_type": "markdown",
   "metadata": {},
   "source": [
    "check the contents of `optunia.aln` file, either from the editor or by parsing it as below"
   ]
  },
  {
   "cell_type": "code",
   "execution_count": 68,
   "metadata": {},
   "outputs": [
    {
     "name": "stdout",
     "output_type": "stream",
     "text": [
      "SingleLetterAlphabet() alignment with 7 rows and 906 columns\n",
      "TATACATTAAAGGAGGGGGATGCGGATAAATGGAAAGGCGAAAG...AGA gi|6273291|gb|AF191665.1|AF191665\n",
      "TATACATTAAAGGAGGGGGATGCGGATAAATGGAAAGGCGAAAG...AGA gi|6273290|gb|AF191664.1|AF191664\n",
      "TATACATTAAAGGAGGGGGATGCGGATAAATGGAAAGGCGAAAG...AGA gi|6273289|gb|AF191663.1|AF191663\n",
      "TATACATTAAAGAAGGGGGATGCGGATAAATGGAAAGGCGAAAG...AGA gi|6273287|gb|AF191661.1|AF191661\n",
      "TATACATAAAAGAAGGGGGATGCGGATAAATGGAAAGGCGAAAG...AGA gi|6273286|gb|AF191660.1|AF191660\n",
      "TATACATTAAAGAAGGGGGATGCGGATAAATGGAAAGGCGAAAG...AGA gi|6273285|gb|AF191659.1|AF191659\n",
      "TATACATTAAAGAAGGGGGATGCGGATAAATGGAAAGGCGAAAG...AGA gi|6273284|gb|AF191658.1|AF191658\n"
     ]
    }
   ],
   "source": [
    "from Bio import AlignIO\n",
    "align = AlignIO.read(\"files/opuntia.aln\", \"clustal\")\n",
    "print(align)"
   ]
  }
 ],
 "metadata": {
  "kernelspec": {
   "display_name": "Python 3",
   "language": "python",
   "name": "python3"
  },
  "language_info": {
   "codemirror_mode": {
    "name": "ipython",
    "version": 3
   },
   "file_extension": ".py",
   "mimetype": "text/x-python",
   "name": "python",
   "nbconvert_exporter": "python",
   "pygments_lexer": "ipython3",
   "version": "3.6.5"
  }
 },
 "nbformat": 4,
 "nbformat_minor": 2
}
